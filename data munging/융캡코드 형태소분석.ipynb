{
 "cells": [
  {
   "cell_type": "code",
   "execution_count": 10,
   "metadata": {
    "scrolled": true
   },
   "outputs": [],
   "source": [
    "import pandas as pd\n",
    "df=pd.read_csv('대학병원(종합).csv',engine='python',encoding='utf-8')"
   ]
  },
  {
   "cell_type": "code",
   "execution_count": 11,
   "metadata": {},
   "outputs": [
    {
     "data": {
      "text/plain": [
       "(2163, 6)"
      ]
     },
     "execution_count": 11,
     "metadata": {},
     "output_type": "execute_result"
    }
   ],
   "source": [
    "df.shape"
   ]
  },
  {
   "cell_type": "code",
   "execution_count": 12,
   "metadata": {},
   "outputs": [
    {
     "name": "stdout",
     "output_type": "stream",
     "text": [
      "<class 'pandas.core.frame.DataFrame'>\n",
      "RangeIndex: 2163 entries, 0 to 2162\n",
      "Data columns (total 6 columns):\n",
      "부위         0 non-null float64\n",
      "질환명(국문)    2163 non-null object\n",
      "질환명(영문)    1725 non-null object\n",
      "증상         2163 non-null object\n",
      "치료         2088 non-null object\n",
      "진료과        333 non-null object\n",
      "dtypes: float64(1), object(5)\n",
      "memory usage: 101.5+ KB\n"
     ]
    }
   ],
   "source": [
    "df.info()"
   ]
  },
  {
   "cell_type": "code",
   "execution_count": 13,
   "metadata": {},
   "outputs": [],
   "source": [
    "from konlpy.tag import Twitter\n",
    "from konlpy.utils import pprint"
   ]
  },
  {
   "cell_type": "code",
   "execution_count": 14,
   "metadata": {
    "scrolled": false
   },
   "outputs": [],
   "source": [
    "twt=Twitter()"
   ]
  },
  {
   "cell_type": "code",
   "execution_count": 15,
   "metadata": {
    "scrolled": true
   },
   "outputs": [],
   "source": [
    "cc=df.loc[:,\"증상\"]\n",
    "# cc"
   ]
  },
  {
   "cell_type": "code",
   "execution_count": 16,
   "metadata": {},
   "outputs": [],
   "source": [
    "# 동사\n",
    "a=[]\n",
    "for k in cc:\n",
    "    tok=twt.pos(k,norm=True)\n",
    "    nouns=[n for n, tag in tok if (tag=='Verb')|(tag=='Noun')]\n",
    "    #pprint(nouns)\n",
    "    a.append(' '.join(nouns))\n",
    "df['형태소']=a"
   ]
  },
  {
   "cell_type": "code",
   "execution_count": 17,
   "metadata": {},
   "outputs": [
    {
     "data": {
      "text/plain": [
       "'크'"
      ]
     },
     "execution_count": 17,
     "metadata": {},
     "output_type": "execute_result"
    }
   ],
   "source": [
    "a[0][0]"
   ]
  },
  {
   "cell_type": "code",
   "execution_count": 18,
   "metadata": {},
   "outputs": [
    {
     "data": {
      "text/plain": [
       "'크게 동통 감각 이상 운동장 애로 나누어 볼 수 일단 무지 인지 중지 및 환자 절반 타는 듯 동 통과 감각 저하 호소 하는 경우 수면 도중 타는 듯 동 통과 린감 깨는 경우 손 털어 동통 가라앉 양상 보이 됩 질병 더욱 진행하면 손 힘 약화 되 대립 기능 무지 다른 손가락 마주 잡는 기능 이 저하 되는 양상 나타나게 됩 더불어 땀 감소하는 등 교감신경 마비 증세 동반 되 기도 합 한편 수근 관 증후군 환자 대부분 경추 관절염 동반 하기 때문 증상 서로 중첩 되어 나타날 수 음 주의해야 합'"
      ]
     },
     "execution_count": 18,
     "metadata": {},
     "output_type": "execute_result"
    }
   ],
   "source": [
    "df.loc[:,'형태소'][0]"
   ]
  },
  {
   "cell_type": "code",
   "execution_count": 29,
   "metadata": {
    "scrolled": true
   },
   "outputs": [
    {
     "data": {
      "text/html": [
       "<div>\n",
       "<style scoped>\n",
       "    .dataframe tbody tr th:only-of-type {\n",
       "        vertical-align: middle;\n",
       "    }\n",
       "\n",
       "    .dataframe tbody tr th {\n",
       "        vertical-align: top;\n",
       "    }\n",
       "\n",
       "    .dataframe thead th {\n",
       "        text-align: right;\n",
       "    }\n",
       "</style>\n",
       "<table border=\"1\" class=\"dataframe\">\n",
       "  <thead>\n",
       "    <tr style=\"text-align: right;\">\n",
       "      <th></th>\n",
       "      <th>부위</th>\n",
       "      <th>질환명(국문)</th>\n",
       "      <th>질환명(영문)</th>\n",
       "      <th>증상</th>\n",
       "      <th>치료</th>\n",
       "      <th>진료과</th>\n",
       "      <th>형태소</th>\n",
       "    </tr>\n",
       "  </thead>\n",
       "  <tbody>\n",
       "    <tr>\n",
       "      <th>0</th>\n",
       "      <td>NaN</td>\n",
       "      <td>수근관 증후군</td>\n",
       "      <td>NaN</td>\n",
       "      <td>크게 동통, 감각이상, 운동장애로 나누어 볼 수 있는데 일단 무지, 인지, 중지 및...</td>\n",
       "      <td>약물치료, 부신피질호르몬 주사요법 등의 보존적 치료를 시도할 수 있으나 대부분의 환...</td>\n",
       "      <td>정형외과</td>\n",
       "      <td>크게 동통 감각 이상 운동장 애로 나누어 볼 수 일단 무지 인지 중지 및 환자 절반...</td>\n",
       "    </tr>\n",
       "  </tbody>\n",
       "</table>\n",
       "</div>"
      ],
      "text/plain": [
       "   부위  질환명(국문) 질환명(영문)                                                 증상  \\\n",
       "0 NaN  수근관 증후군     NaN  크게 동통, 감각이상, 운동장애로 나누어 볼 수 있는데 일단 무지, 인지, 중지 및...   \n",
       "\n",
       "                                                  치료    진료과  \\\n",
       "0  약물치료, 부신피질호르몬 주사요법 등의 보존적 치료를 시도할 수 있으나 대부분의 환...  정형외과    \n",
       "\n",
       "                                                 형태소  \n",
       "0  크게 동통 감각 이상 운동장 애로 나누어 볼 수 일단 무지 인지 중지 및 환자 절반...  "
      ]
     },
     "execution_count": 29,
     "metadata": {},
     "output_type": "execute_result"
    }
   ],
   "source": [
    "df.head(1)"
   ]
  },
  {
   "cell_type": "code",
   "execution_count": 24,
   "metadata": {
    "scrolled": true
   },
   "outputs": [],
   "source": [
    "df.to_csv('대학병원_형태소분석.csv',header=True,index=False)"
   ]
  },
  {
   "cell_type": "code",
   "execution_count": 27,
   "metadata": {},
   "outputs": [],
   "source": [
    "dataset=pd.read_csv('대학병원_형태소분석.csv',engine='python',encoding='utf-8')"
   ]
  },
  {
   "cell_type": "code",
   "execution_count": 28,
   "metadata": {
    "scrolled": false
   },
   "outputs": [
    {
     "data": {
      "text/html": [
       "<div>\n",
       "<style scoped>\n",
       "    .dataframe tbody tr th:only-of-type {\n",
       "        vertical-align: middle;\n",
       "    }\n",
       "\n",
       "    .dataframe tbody tr th {\n",
       "        vertical-align: top;\n",
       "    }\n",
       "\n",
       "    .dataframe thead th {\n",
       "        text-align: right;\n",
       "    }\n",
       "</style>\n",
       "<table border=\"1\" class=\"dataframe\">\n",
       "  <thead>\n",
       "    <tr style=\"text-align: right;\">\n",
       "      <th></th>\n",
       "      <th>부위</th>\n",
       "      <th>질환명(국문)</th>\n",
       "      <th>질환명(영문)</th>\n",
       "      <th>증상</th>\n",
       "      <th>치료</th>\n",
       "      <th>진료과</th>\n",
       "      <th>형태소</th>\n",
       "    </tr>\n",
       "  </thead>\n",
       "  <tbody>\n",
       "    <tr>\n",
       "      <th>0</th>\n",
       "      <td>NaN</td>\n",
       "      <td>수근관 증후군</td>\n",
       "      <td>NaN</td>\n",
       "      <td>크게 동통, 감각이상, 운동장애로 나누어 볼 수 있는데 일단 무지, 인지, 중지 및...</td>\n",
       "      <td>약물치료, 부신피질호르몬 주사요법 등의 보존적 치료를 시도할 수 있으나 대부분의 환...</td>\n",
       "      <td>정형외과</td>\n",
       "      <td>크게 동통 감각 이상 운동장 애로 나누어 볼 수 일단 무지 인지 중지 및 환자 절반...</td>\n",
       "    </tr>\n",
       "    <tr>\n",
       "      <th>1</th>\n",
       "      <td>NaN</td>\n",
       "      <td>리스테리아 감염증</td>\n",
       "      <td>Listeria monocytogenes</td>\n",
       "      <td>리스테리아 감염증에는 리스테리아 모노사이토제네스(Listeria monocytoge...</td>\n",
       "      <td>치료에서는 암피실린이나 페니실린이 일반적으로 선호된다. 심한 경우에는 젠타마이신을 ...</td>\n",
       "      <td>NaN</td>\n",
       "      <td>리스테리아 감염증 리스테리아 모노 사이 토제 네스 의하는 경우 가장 이균 운동 비교...</td>\n",
       "    </tr>\n",
       "    <tr>\n",
       "      <th>2</th>\n",
       "      <td>NaN</td>\n",
       "      <td>동맥인성 발기부전</td>\n",
       "      <td>NaN</td>\n",
       "      <td>지속적인 발기력의 감퇴, 자연발기가 안되거나 성생활시의 발기보다 새벽에 나타나는 조...</td>\n",
       "      <td>수술방법은 하복부동맥을 노출하기 위한 복부절개와 음경 배부 동맥을 노출하기 위해 음...</td>\n",
       "      <td>비뇨기과</td>\n",
       "      <td>지속 발기 감퇴 자연 발기 안되 성생활 시 발기 새벽 나타나는 조조 발기 더 때 의...</td>\n",
       "    </tr>\n",
       "  </tbody>\n",
       "</table>\n",
       "</div>"
      ],
      "text/plain": [
       "   부위    질환명(국문)                 질환명(영문)  \\\n",
       "0 NaN    수근관 증후군                     NaN   \n",
       "1 NaN  리스테리아 감염증  Listeria monocytogenes   \n",
       "2 NaN  동맥인성 발기부전                     NaN   \n",
       "\n",
       "                                                  증상  \\\n",
       "0  크게 동통, 감각이상, 운동장애로 나누어 볼 수 있는데 일단 무지, 인지, 중지 및...   \n",
       "1  리스테리아 감염증에는 리스테리아 모노사이토제네스(Listeria monocytoge...   \n",
       "2  지속적인 발기력의 감퇴, 자연발기가 안되거나 성생활시의 발기보다 새벽에 나타나는 조...   \n",
       "\n",
       "                                                  치료    진료과  \\\n",
       "0  약물치료, 부신피질호르몬 주사요법 등의 보존적 치료를 시도할 수 있으나 대부분의 환...  정형외과    \n",
       "1  치료에서는 암피실린이나 페니실린이 일반적으로 선호된다. 심한 경우에는 젠타마이신을 ...    NaN   \n",
       "2  수술방법은 하복부동맥을 노출하기 위한 복부절개와 음경 배부 동맥을 노출하기 위해 음...   비뇨기과   \n",
       "\n",
       "                                                 형태소  \n",
       "0  크게 동통 감각 이상 운동장 애로 나누어 볼 수 일단 무지 인지 중지 및 환자 절반...  \n",
       "1  리스테리아 감염증 리스테리아 모노 사이 토제 네스 의하는 경우 가장 이균 운동 비교...  \n",
       "2  지속 발기 감퇴 자연 발기 안되 성생활 시 발기 새벽 나타나는 조조 발기 더 때 의...  "
      ]
     },
     "execution_count": 28,
     "metadata": {},
     "output_type": "execute_result"
    }
   ],
   "source": [
    "dataset.head(3)"
   ]
  },
  {
   "cell_type": "code",
   "execution_count": 30,
   "metadata": {},
   "outputs": [],
   "source": [
    "b=[]\n",
    "for i in dataset['형태소']:\n",
    "    aa=i\n",
    "    b.append(aa.split( ))\n",
    "dataset['형태소분리']=b    "
   ]
  },
  {
   "cell_type": "code",
   "execution_count": 31,
   "metadata": {},
   "outputs": [
    {
     "data": {
      "text/html": [
       "<div>\n",
       "<style scoped>\n",
       "    .dataframe tbody tr th:only-of-type {\n",
       "        vertical-align: middle;\n",
       "    }\n",
       "\n",
       "    .dataframe tbody tr th {\n",
       "        vertical-align: top;\n",
       "    }\n",
       "\n",
       "    .dataframe thead th {\n",
       "        text-align: right;\n",
       "    }\n",
       "</style>\n",
       "<table border=\"1\" class=\"dataframe\">\n",
       "  <thead>\n",
       "    <tr style=\"text-align: right;\">\n",
       "      <th></th>\n",
       "      <th>부위</th>\n",
       "      <th>질환명(국문)</th>\n",
       "      <th>질환명(영문)</th>\n",
       "      <th>증상</th>\n",
       "      <th>치료</th>\n",
       "      <th>진료과</th>\n",
       "      <th>형태소</th>\n",
       "      <th>형태소분리</th>\n",
       "    </tr>\n",
       "  </thead>\n",
       "  <tbody>\n",
       "    <tr>\n",
       "      <th>0</th>\n",
       "      <td>NaN</td>\n",
       "      <td>수근관 증후군</td>\n",
       "      <td>NaN</td>\n",
       "      <td>크게 동통, 감각이상, 운동장애로 나누어 볼 수 있는데 일단 무지, 인지, 중지 및...</td>\n",
       "      <td>약물치료, 부신피질호르몬 주사요법 등의 보존적 치료를 시도할 수 있으나 대부분의 환...</td>\n",
       "      <td>정형외과</td>\n",
       "      <td>크게 동통 감각 이상 운동장 애로 나누어 볼 수 일단 무지 인지 중지 및 환자 절반...</td>\n",
       "      <td>[크게, 동통, 감각, 이상, 운동장, 애로, 나누어, 볼, 수, 일단, 무지, 인...</td>\n",
       "    </tr>\n",
       "    <tr>\n",
       "      <th>1</th>\n",
       "      <td>NaN</td>\n",
       "      <td>리스테리아 감염증</td>\n",
       "      <td>Listeria monocytogenes</td>\n",
       "      <td>리스테리아 감염증에는 리스테리아 모노사이토제네스(Listeria monocytoge...</td>\n",
       "      <td>치료에서는 암피실린이나 페니실린이 일반적으로 선호된다. 심한 경우에는 젠타마이신을 ...</td>\n",
       "      <td>NaN</td>\n",
       "      <td>리스테리아 감염증 리스테리아 모노 사이 토제 네스 의하는 경우 가장 이균 운동 비교...</td>\n",
       "      <td>[리스테리아, 감염증, 리스테리아, 모노, 사이, 토제, 네스, 의하는, 경우, 가...</td>\n",
       "    </tr>\n",
       "    <tr>\n",
       "      <th>2</th>\n",
       "      <td>NaN</td>\n",
       "      <td>동맥인성 발기부전</td>\n",
       "      <td>NaN</td>\n",
       "      <td>지속적인 발기력의 감퇴, 자연발기가 안되거나 성생활시의 발기보다 새벽에 나타나는 조...</td>\n",
       "      <td>수술방법은 하복부동맥을 노출하기 위한 복부절개와 음경 배부 동맥을 노출하기 위해 음...</td>\n",
       "      <td>비뇨기과</td>\n",
       "      <td>지속 발기 감퇴 자연 발기 안되 성생활 시 발기 새벽 나타나는 조조 발기 더 때 의...</td>\n",
       "      <td>[지속, 발기, 감퇴, 자연, 발기, 안되, 성생활, 시, 발기, 새벽, 나타나는,...</td>\n",
       "    </tr>\n",
       "    <tr>\n",
       "      <th>3</th>\n",
       "      <td>NaN</td>\n",
       "      <td>세균성이질</td>\n",
       "      <td>NaN</td>\n",
       "      <td>세균성이질의 잠복기는 12시간에서 7일로 평균 1~3일 정도입니다. 임상증상은 보통...</td>\n",
       "      <td>세균성이질의 치료에서 가장 중요한 것은 전해질과 수분 공급 등의 보존적 치료지만 증...</td>\n",
       "      <td>NaN</td>\n",
       "      <td>세균성이질 잠복기 시간 일로 평균 일 정도 임 증상 보통 경미 하거 증상 지나가기 ...</td>\n",
       "      <td>[세균성이질, 잠복기, 시간, 일로, 평균, 일, 정도, 임, 증상, 보통, 경미,...</td>\n",
       "    </tr>\n",
       "    <tr>\n",
       "      <th>4</th>\n",
       "      <td>NaN</td>\n",
       "      <td>피부 주름</td>\n",
       "      <td>wrinkle</td>\n",
       "      <td>젊어지고 싶은 것은 인간의 본능적 욕망 젊고 아름답고 싶은 충동은 동서고금을 막론한...</td>\n",
       "      <td>주름의 제거를 위한 외과적 수술적 치료는 느슨한 부위의 피부를 절제하는 것으로 크고...</td>\n",
       "      <td>피부과</td>\n",
       "      <td>싶은 것 인간 본능 욕망 싶은 충동 동서 고금 막론 인간 본능 욕망 합 나무 성장하...</td>\n",
       "      <td>[싶은, 것, 인간, 본능, 욕망, 싶은, 충동, 동서, 고금, 막론, 인간, 본능...</td>\n",
       "    </tr>\n",
       "  </tbody>\n",
       "</table>\n",
       "</div>"
      ],
      "text/plain": [
       "   부위    질환명(국문)                 질환명(영문)  \\\n",
       "0 NaN    수근관 증후군                     NaN   \n",
       "1 NaN  리스테리아 감염증  Listeria monocytogenes   \n",
       "2 NaN  동맥인성 발기부전                     NaN   \n",
       "3 NaN      세균성이질                     NaN   \n",
       "4 NaN      피부 주름                 wrinkle   \n",
       "\n",
       "                                                  증상  \\\n",
       "0  크게 동통, 감각이상, 운동장애로 나누어 볼 수 있는데 일단 무지, 인지, 중지 및...   \n",
       "1  리스테리아 감염증에는 리스테리아 모노사이토제네스(Listeria monocytoge...   \n",
       "2  지속적인 발기력의 감퇴, 자연발기가 안되거나 성생활시의 발기보다 새벽에 나타나는 조...   \n",
       "3  세균성이질의 잠복기는 12시간에서 7일로 평균 1~3일 정도입니다. 임상증상은 보통...   \n",
       "4  젊어지고 싶은 것은 인간의 본능적 욕망 젊고 아름답고 싶은 충동은 동서고금을 막론한...   \n",
       "\n",
       "                                                  치료    진료과  \\\n",
       "0  약물치료, 부신피질호르몬 주사요법 등의 보존적 치료를 시도할 수 있으나 대부분의 환...  정형외과    \n",
       "1  치료에서는 암피실린이나 페니실린이 일반적으로 선호된다. 심한 경우에는 젠타마이신을 ...    NaN   \n",
       "2  수술방법은 하복부동맥을 노출하기 위한 복부절개와 음경 배부 동맥을 노출하기 위해 음...   비뇨기과   \n",
       "3  세균성이질의 치료에서 가장 중요한 것은 전해질과 수분 공급 등의 보존적 치료지만 증...    NaN   \n",
       "4  주름의 제거를 위한 외과적 수술적 치료는 느슨한 부위의 피부를 절제하는 것으로 크고...    피부과   \n",
       "\n",
       "                                                 형태소  \\\n",
       "0  크게 동통 감각 이상 운동장 애로 나누어 볼 수 일단 무지 인지 중지 및 환자 절반...   \n",
       "1  리스테리아 감염증 리스테리아 모노 사이 토제 네스 의하는 경우 가장 이균 운동 비교...   \n",
       "2  지속 발기 감퇴 자연 발기 안되 성생활 시 발기 새벽 나타나는 조조 발기 더 때 의...   \n",
       "3  세균성이질 잠복기 시간 일로 평균 일 정도 임 증상 보통 경미 하거 증상 지나가기 ...   \n",
       "4  싶은 것 인간 본능 욕망 싶은 충동 동서 고금 막론 인간 본능 욕망 합 나무 성장하...   \n",
       "\n",
       "                                               형태소분리  \n",
       "0  [크게, 동통, 감각, 이상, 운동장, 애로, 나누어, 볼, 수, 일단, 무지, 인...  \n",
       "1  [리스테리아, 감염증, 리스테리아, 모노, 사이, 토제, 네스, 의하는, 경우, 가...  \n",
       "2  [지속, 발기, 감퇴, 자연, 발기, 안되, 성생활, 시, 발기, 새벽, 나타나는,...  \n",
       "3  [세균성이질, 잠복기, 시간, 일로, 평균, 일, 정도, 임, 증상, 보통, 경미,...  \n",
       "4  [싶은, 것, 인간, 본능, 욕망, 싶은, 충동, 동서, 고금, 막론, 인간, 본능...  "
      ]
     },
     "execution_count": 31,
     "metadata": {},
     "output_type": "execute_result"
    }
   ],
   "source": [
    "dataset.head()"
   ]
  },
  {
   "cell_type": "code",
   "execution_count": 32,
   "metadata": {},
   "outputs": [],
   "source": [
    "bb=sum(b,[])"
   ]
  },
  {
   "cell_type": "code",
   "execution_count": 33,
   "metadata": {},
   "outputs": [],
   "source": [
    "bb=set(bb)"
   ]
  },
  {
   "cell_type": "code",
   "execution_count": 34,
   "metadata": {},
   "outputs": [],
   "source": [
    "bb=list(bb)"
   ]
  },
  {
   "cell_type": "code",
   "execution_count": 35,
   "metadata": {},
   "outputs": [],
   "source": [
    "# bb"
   ]
  },
  {
   "cell_type": "code",
   "execution_count": 36,
   "metadata": {},
   "outputs": [],
   "source": [
    "import pandas as pd"
   ]
  },
  {
   "cell_type": "code",
   "execution_count": 37,
   "metadata": {
    "scrolled": true
   },
   "outputs": [],
   "source": [
    "bb=pd.DataFrame(bb)"
   ]
  },
  {
   "cell_type": "code",
   "execution_count": 38,
   "metadata": {},
   "outputs": [],
   "source": [
    "bb.to_csv('중복제거단어.csv',header=False,index=False,encoding=\"euc-kr\")"
   ]
  },
  {
   "cell_type": "code",
   "execution_count": null,
   "metadata": {},
   "outputs": [],
   "source": []
  }
 ],
 "metadata": {
  "kernelspec": {
   "display_name": "Python 3",
   "language": "python",
   "name": "python3"
  },
  "language_info": {
   "codemirror_mode": {
    "name": "ipython",
    "version": 3
   },
   "file_extension": ".py",
   "mimetype": "text/x-python",
   "name": "python",
   "nbconvert_exporter": "python",
   "pygments_lexer": "ipython3",
   "version": "3.6.5"
  }
 },
 "nbformat": 4,
 "nbformat_minor": 2
}
