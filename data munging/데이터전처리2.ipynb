{
 "cells": [
  {
   "cell_type": "code",
   "execution_count": 1,
   "metadata": {},
   "outputs": [],
   "source": [
    "import pandas as pd\n",
    "import numpy as np\n",
    "import re"
   ]
  },
  {
   "cell_type": "code",
   "execution_count": 2,
   "metadata": {},
   "outputs": [],
   "source": [
    "data2 = pd.read_excel('전남대DB.xlsx')\n",
    "data3 = pd.read_excel('원광대DB.xlsx')\n",
    "data4 = pd.read_excel('제주대DB.xlsx')\n",
    "data5 = pd.read_excel('경상대DB.xlsx')\n",
    "data6 = pd.read_excel('울산대DB.xlsx')\n",
    "data7 = pd.read_excel('한양대DB.xlsx')"
   ]
  },
  {
   "cell_type": "code",
   "execution_count": 86,
   "metadata": {},
   "outputs": [],
   "source": [
    "#data3.head(3)"
   ]
  },
  {
   "cell_type": "code",
   "execution_count": 4,
   "metadata": {},
   "outputs": [
    {
     "name": "stdout",
     "output_type": "stream",
     "text": [
      "<class 'pandas.core.frame.DataFrame'>\n",
      "RangeIndex: 118 entries, 0 to 117\n",
      "Data columns (total 6 columns):\n",
      "부위         0 non-null float64\n",
      "질환명(국문)    118 non-null object\n",
      "질환명(영문)    10 non-null object\n",
      "증상         118 non-null object\n",
      "치료         87 non-null object\n",
      "진료과        117 non-null object\n",
      "dtypes: float64(1), object(5)\n",
      "memory usage: 5.6+ KB\n"
     ]
    }
   ],
   "source": [
    "data2.info()"
   ]
  },
  {
   "cell_type": "code",
   "execution_count": 57,
   "metadata": {},
   "outputs": [],
   "source": [
    "# 증상 null 값 제거\n",
    "def vanishnull(data):\n",
    "    data = data[data['증상'].notnull()]\n",
    "    data.reset_index(inplace=True, drop=True)\n",
    "    return data"
   ]
  },
  {
   "cell_type": "code",
   "execution_count": 62,
   "metadata": {},
   "outputs": [],
   "source": [
    "def sumdata(data1,data2):\n",
    "    for i in range(len(data2)):\n",
    "        flag = True\n",
    "        for j in range(len(data1)):\n",
    "            \n",
    "            # 중복 병명 확인\n",
    "            if(data2.loc[i]['질환명(국문)']==data1.loc[j]['질환명(국문)']):\n",
    "                flag = False\n",
    "                \n",
    "                # 중복되는 병명이 있을 경우 증상에 대한 설명이 긴 것을 채택.\n",
    "                if(len(data2.loc[i]['증상'])<len(data1.loc[j]['증상'])):\n",
    "                    data1.loc[j] = data2.loc[i]\n",
    "        if flag:\n",
    "            data1 = data1.append(data2.loc[i], ignore_index=True)\n",
    "    \n",
    "    return data1      "
   ]
  },
  {
   "cell_type": "code",
   "execution_count": 72,
   "metadata": {},
   "outputs": [],
   "source": [
    "data = [data2,data4,data5,data6,data7]"
   ]
  },
  {
   "cell_type": "code",
   "execution_count": 73,
   "metadata": {},
   "outputs": [],
   "source": [
    "for i in range(len(data)):\n",
    "    data[i] = vanishnull(data[i])"
   ]
  },
  {
   "cell_type": "code",
   "execution_count": 74,
   "metadata": {},
   "outputs": [],
   "source": [
    "data33 = vanishnull(data3)"
   ]
  },
  {
   "cell_type": "code",
   "execution_count": 75,
   "metadata": {},
   "outputs": [
    {
     "name": "stdout",
     "output_type": "stream",
     "text": [
      "1\n",
      "2\n",
      "3\n",
      "4\n"
     ]
    }
   ],
   "source": [
    "sumdd = data[0]\n",
    "for i in range(1,len(data)):\n",
    "    print(i)\n",
    "    sumdd = sumdata(sumdd,data[i])"
   ]
  },
  {
   "cell_type": "code",
   "execution_count": 77,
   "metadata": {},
   "outputs": [],
   "source": [
    "sumdd = sumdata(sumdd,data33)"
   ]
  },
  {
   "cell_type": "code",
   "execution_count": 87,
   "metadata": {},
   "outputs": [],
   "source": [
    "#sumdd[2000:2100]"
   ]
  },
  {
   "cell_type": "code",
   "execution_count": 96,
   "metadata": {},
   "outputs": [],
   "source": [
    "writer = pd.ExcelWriter('대학병원(종합).xlsx', engine='xlsxwriter')\n",
    "sumdd.to_excel(writer, sheet_name='Sheet1')\n",
    "writer.save()"
   ]
  },
  {
   "cell_type": "code",
   "execution_count": null,
   "metadata": {},
   "outputs": [],
   "source": []
  }
 ],
 "metadata": {
  "kernelspec": {
   "display_name": "Python 3",
   "language": "python",
   "name": "python3"
  },
  "language_info": {
   "codemirror_mode": {
    "name": "ipython",
    "version": 3
   },
   "file_extension": ".py",
   "mimetype": "text/x-python",
   "name": "python",
   "nbconvert_exporter": "python",
   "pygments_lexer": "ipython3",
   "version": "3.6.5"
  }
 },
 "nbformat": 4,
 "nbformat_minor": 2
}
